{
 "cells": [
  {
   "cell_type": "code",
   "execution_count": 1,
   "metadata": {},
   "outputs": [
    {
     "name": "stdout",
     "output_type": "stream",
     "text": [
      "Collecting git+https://github.com/gdlg/simple-waymo-open-dataset-reader.git\n",
      "  Cloning https://github.com/gdlg/simple-waymo-open-dataset-reader.git to /tmp/pip-req-build-xiuiqpvw\n",
      "  Running command git clone -q https://github.com/gdlg/simple-waymo-open-dataset-reader.git /tmp/pip-req-build-xiuiqpvw\n",
      "Requirement already satisfied (use --upgrade to upgrade): simple-waymo-open-dataset-reader==0.0.0 from git+https://github.com/gdlg/simple-waymo-open-dataset-reader.git in /usr/local/lib/python3.6/dist-packages\n",
      "Requirement already satisfied: protobuf in /usr/local/lib/python3.6/dist-packages (from simple-waymo-open-dataset-reader==0.0.0) (3.11.2)\n",
      "Requirement already satisfied: setuptools in /usr/local/lib/python3.6/dist-packages (from protobuf->simple-waymo-open-dataset-reader==0.0.0) (44.0.0)\n",
      "Requirement already satisfied: six>=1.9 in /usr/local/lib/python3.6/dist-packages (from protobuf->simple-waymo-open-dataset-reader==0.0.0) (1.13.0)\n",
      "Building wheels for collected packages: simple-waymo-open-dataset-reader\n",
      "  Building wheel for simple-waymo-open-dataset-reader (setup.py) ... \u001b[?25ldone\n",
      "\u001b[?25h  Created wheel for simple-waymo-open-dataset-reader: filename=simple_waymo_open_dataset_reader-0.0.0-cp36-none-any.whl size=14499 sha256=6eb666ad8f2eb16fd7b5ea702e032d7fde89b592ca72f064f880fdccec9486fa\n",
      "  Stored in directory: /tmp/pip-ephem-wheel-cache-bs6dmesg/wheels/e7/ec/d1/bbcd7749f04ac99f066bed300d395a7bc5714ebf93a9b42964\n",
      "Successfully built simple-waymo-open-dataset-reader\n",
      "\u001b[33mWARNING: You are using pip version 19.3.1; however, version 20.1 is available.\n",
      "You should consider upgrading via the 'pip install --upgrade pip' command.\u001b[0m\n"
     ]
    }
   ],
   "source": [
    "!pip install git+https://github.com/gdlg/simple-waymo-open-dataset-reader.git"
   ]
  },
  {
   "cell_type": "code",
   "execution_count": 2,
   "metadata": {},
   "outputs": [],
   "source": [
    "from glob import glob\n",
    "data_paths_val = glob('/waymo/validation/*.tfrecord')\n",
    "data_paths_test = glob('/ssd6/waymo/test/*.tfrecord')\n",
    "data_paths_train = [_ for _ in glob('/waymo/training_1.2/*.tfrecord') if not _ in data_paths_val]"
   ]
  },
  {
   "cell_type": "code",
   "execution_count": 24,
   "metadata": {},
   "outputs": [],
   "source": [
    "import numpy as np\n",
    "import math\n",
    "import cv2\n",
    "from PIL import Image\n",
    "import io\n",
    "import matplotlib.pyplot as plt\n",
    "import sys\n",
    "\n",
    "import os\n",
    "from simple_waymo_open_dataset_reader import WaymoDataFileReader\n",
    "from simple_waymo_open_dataset_reader import dataset_pb2\n",
    "import tensorflow as tf\n",
    "tf.compat.v1.enable_eager_execution()\n",
    "\n",
    "\n",
    "# project_func\n",
    "\n",
    "def project_labels_into_image(point, camera_calibration):\n",
    "    extrinsic = tf.reshape(camera_calibration.extrinsic.transform, [4, 4])\n",
    "#     vehicle_to_sensor = tf.matrix_inverse(extrinsic)\n",
    "    vehicle_to_sensor = tf.compat.v1.matrix_inverse(extrinsic)\n",
    "    \n",
    "    point1 = point\n",
    "    point1.append(1)\n",
    "    #print(tf.constant(point1,  dtype=tf.float32).shape)\n",
    "    point_camera_frame = tf.einsum('ij,j->i', vehicle_to_sensor, tf.constant(point1, dtype=tf.float32))\n",
    "    u_d = - point_camera_frame[1] / point_camera_frame[0]\n",
    "    v_d = - point_camera_frame[2] / point_camera_frame[0]\n",
    "\n",
    "    # add distortion model here if you'd like.\n",
    "    f_u = camera_calibration.intrinsic[0];\n",
    "    f_v = camera_calibration.intrinsic[1];\n",
    "    c_u = camera_calibration.intrinsic[2];\n",
    "    c_v = camera_calibration.intrinsic[3];\n",
    "    u_d = u_d * f_u + c_u;\n",
    "    v_d = v_d * f_v + c_v;\n",
    "\n",
    "    return [u_d.numpy(), v_d.numpy()]\n",
    "\n",
    "\n",
    "\n",
    "\n",
    "def projection_label_into_image(cnt, camera_calibration, images, laser_labels):\n",
    "    img = np.array(Image.open(io.BytesIO(images.image)))\n",
    "    for label in laser_labels:\n",
    "        box = label.box\n",
    "        # Extract the box size\n",
    "        sl, sh, sw = box.length, box.height, box.width\n",
    "        # Get the vehicle pose\n",
    "        center_x, center_y, center_z = box.center_x, box.center_y, box.center_z\n",
    "        heading = box.heading\n",
    "        corner = np.array([[-0.5 * sl, -0.5 * sw], [-0.5 * sl, 0.5 * sw], [0.5 * sl, -0.5 * sw], [0.5 * sl, 0.5 * sw]])\n",
    "        rotation_matrix = np.array([[np.cos(heading), - np.sin(heading)], [np.sin(heading), np.cos(heading)]])\n",
    "        corner = np.matmul(corner, rotation_matrix)\n",
    "        A = [center_x + corner[0][0], center_y + corner[0][1], center_z - 0.5 * sh]\n",
    "        B = [center_x + corner[1][0], center_y + corner[1][1], center_z - 0.5 * sh]\n",
    "        C = [center_x + corner[2][0], center_y + corner[2][1], center_z - 0.5 * sh]\n",
    "        D = [center_x + corner[3][0], center_y + corner[3][1], center_z - 0.5 * sh]\n",
    "        E = [center_x + corner[0][0], center_y + corner[0][1], center_z + 0.5 * sh]\n",
    "        F = [center_x + corner[1][0], center_y + corner[1][1], center_z + 0.5 * sh]\n",
    "        G = [center_x + corner[2][0], center_y + corner[2][1], center_z + 0.5 * sh]\n",
    "        H = [center_x + corner[3][0], center_y + corner[3][1], center_z + 0.5 * sh]\n",
    "        A_new = project_labels_into_image(A, camera_calibration)\n",
    "        B_new = project_labels_into_image(B, camera_calibration)\n",
    "        C_new = project_labels_into_image(C, camera_calibration)\n",
    "        D_new = project_labels_into_image(D, camera_calibration)\n",
    "        E_new = project_labels_into_image(E, camera_calibration)\n",
    "        F_new = project_labels_into_image(F, camera_calibration)\n",
    "        G_new = project_labels_into_image(G, camera_calibration)\n",
    "        H_new = project_labels_into_image(H, camera_calibration)\n",
    "        \n",
    "        A_new = (int(A_new[0]), int(A_new[1]))\n",
    "        B_new = (int(B_new[0]), int(B_new[1]))\n",
    "        C_new = (int(C_new[0]), int(C_new[1]))\n",
    "        D_new = (int(D_new[0]), int(D_new[1]))\n",
    "        E_new = (int(E_new[0]), int(E_new[1]))\n",
    "        F_new = (int(F_new[0]), int(F_new[1]))\n",
    "        G_new = (int(G_new[0]), int(G_new[1]))\n",
    "        H_new = (int(H_new[0]), int(H_new[1]))\n",
    "\n",
    "        colour = (0, 0, 255)\n",
    "        cv2.line(img, A_new, B_new, tuppe(np.random.choice(256, 3).tolist()), thickness=2)\n",
    "        cv2.line(img, B_new, D_new, tuppe(np.random.choice(256, 3).tolist()), thickness=2)\n",
    "        cv2.line(img, D_new, C_new, tuppe(np.random.choice(256, 3).tolist()), thickness=2)\n",
    "        cv2.line(img, C_new, A_new, tuppe(np.random.choice(256, 3).tolist()), thickness=2)\n",
    "        cv2.line(img, A_new, E_new, tuppe(np.random.choice(256, 3).tolist()), thickness=2)\n",
    "        cv2.line(img, B_new, F_new, tuppe(np.random.choice(256, 3).tolist()), thickness=2)\n",
    "        cv2.line(img, C_new, G_new, tuppe(np.random.choice(256, 3).tolist()), thickness=2)\n",
    "        cv2.line(img, D_new, H_new, tuppe(np.random.choice(256, 3).tolist()), thickness=2)\n",
    "        cv2.line(img, E_new, F_new, tuppe(np.random.choice(256, 3).tolist()), thickness=2)\n",
    "        cv2.line(img, F_new, H_new, tuppe(np.random.choice(256, 3).tolist()), thickness=2)\n",
    "        cv2.line(img, H_new, G_new, tuppe(np.random.choice(256, 3).tolist()), thickness=2)\n",
    "        cv2.line(img, E_new, G_new, tuppe(np.random.choice(256, 3).tolist()), thickness=2)\n",
    "    os.makedirs('./images', exist_ok=True)\n",
    "\n",
    "    cv2.imwrite('./images/' + str(cnt) + '.jpg', img)\n",
    "\n",
    "\n",
    "\n",
    "#     cv2.imwrite('./images/' + str(cnt) + '.jpg', img[...,])\n",
    "    plt.figure(dpi=150)\n",
    "    plt.imshow(img)\n",
    "    plt.show()\n",
    "\n",
    "\n"
   ]
  },
  {
   "cell_type": "code",
   "execution_count": 25,
   "metadata": {},
   "outputs": [
    {
     "name": "stdout",
     "output_type": "stream",
     "text": [
      "/waymo/training_1.2/segment-10023947602400723454_1120_000_1140_000_with_camera_labels.tfrecord\n",
      "There are 199 frames in this file.\n",
      "4\n",
      "1 78\n"
     ]
    },
    {
     "ename": "NameError",
     "evalue": "name 'tupple' is not defined",
     "output_type": "error",
     "traceback": [
      "\u001b[0;31m---------------------------------------------------------------------------\u001b[0m",
      "\u001b[0;31mNameError\u001b[0m                                 Traceback (most recent call last)",
      "\u001b[0;32m<ipython-input-25-64a66e9b0f0c>\u001b[0m in \u001b[0;36m<module>\u001b[0;34m\u001b[0m\n\u001b[1;32m     41\u001b[0m \u001b[0;31m#         projection_label_into_image(cnt, camera_calibrations, images, frame.laser_labels)\u001b[0m\u001b[0;34m\u001b[0m\u001b[0;34m\u001b[0m\u001b[0;34m\u001b[0m\u001b[0m\n\u001b[1;32m     42\u001b[0m         \u001b[0mprint\u001b[0m\u001b[0;34m(\u001b[0m\u001b[0mlen\u001b[0m\u001b[0;34m(\u001b[0m\u001b[0mlaser_valid_labels\u001b[0m\u001b[0;34m)\u001b[0m\u001b[0;34m,\u001b[0m \u001b[0mlen\u001b[0m\u001b[0;34m(\u001b[0m\u001b[0mframe\u001b[0m\u001b[0;34m.\u001b[0m\u001b[0mlaser_labels\u001b[0m\u001b[0;34m)\u001b[0m\u001b[0;34m)\u001b[0m\u001b[0;34m\u001b[0m\u001b[0;34m\u001b[0m\u001b[0m\n\u001b[0;32m---> 43\u001b[0;31m         \u001b[0mprojection_label_into_image\u001b[0m\u001b[0;34m(\u001b[0m\u001b[0mcnt\u001b[0m\u001b[0;34m,\u001b[0m \u001b[0mcamera_calibrations\u001b[0m\u001b[0;34m,\u001b[0m \u001b[0mimages\u001b[0m\u001b[0;34m,\u001b[0m \u001b[0mlaser_valid_labels\u001b[0m\u001b[0;34m)\u001b[0m\u001b[0;34m\u001b[0m\u001b[0;34m\u001b[0m\u001b[0m\n\u001b[0m\u001b[1;32m     44\u001b[0m         \u001b[0;32mbreak\u001b[0m\u001b[0;34m\u001b[0m\u001b[0;34m\u001b[0m\u001b[0m\n",
      "\u001b[0;32m<ipython-input-24-4a1a439371be>\u001b[0m in \u001b[0;36mprojection_label_into_image\u001b[0;34m(cnt, camera_calibration, images, laser_labels)\u001b[0m\n\u001b[1;32m     80\u001b[0m \u001b[0;34m\u001b[0m\u001b[0m\n\u001b[1;32m     81\u001b[0m         \u001b[0mcolour\u001b[0m \u001b[0;34m=\u001b[0m \u001b[0;34m(\u001b[0m\u001b[0;36m0\u001b[0m\u001b[0;34m,\u001b[0m \u001b[0;36m0\u001b[0m\u001b[0;34m,\u001b[0m \u001b[0;36m255\u001b[0m\u001b[0;34m)\u001b[0m\u001b[0;34m\u001b[0m\u001b[0;34m\u001b[0m\u001b[0m\n\u001b[0;32m---> 82\u001b[0;31m         \u001b[0mcv2\u001b[0m\u001b[0;34m.\u001b[0m\u001b[0mline\u001b[0m\u001b[0;34m(\u001b[0m\u001b[0mimg\u001b[0m\u001b[0;34m,\u001b[0m \u001b[0mA_new\u001b[0m\u001b[0;34m,\u001b[0m \u001b[0mB_new\u001b[0m\u001b[0;34m,\u001b[0m \u001b[0mtupple\u001b[0m\u001b[0;34m(\u001b[0m\u001b[0mnp\u001b[0m\u001b[0;34m.\u001b[0m\u001b[0mrandom\u001b[0m\u001b[0;34m.\u001b[0m\u001b[0mchoice\u001b[0m\u001b[0;34m(\u001b[0m\u001b[0;36m256\u001b[0m\u001b[0;34m,\u001b[0m \u001b[0;36m3\u001b[0m\u001b[0;34m)\u001b[0m\u001b[0;34m.\u001b[0m\u001b[0mtolist\u001b[0m\u001b[0;34m(\u001b[0m\u001b[0;34m)\u001b[0m\u001b[0;34m)\u001b[0m\u001b[0;34m,\u001b[0m \u001b[0mthickness\u001b[0m\u001b[0;34m=\u001b[0m\u001b[0;36m2\u001b[0m\u001b[0;34m)\u001b[0m\u001b[0;34m\u001b[0m\u001b[0;34m\u001b[0m\u001b[0m\n\u001b[0m\u001b[1;32m     83\u001b[0m         \u001b[0mcv2\u001b[0m\u001b[0;34m.\u001b[0m\u001b[0mline\u001b[0m\u001b[0;34m(\u001b[0m\u001b[0mimg\u001b[0m\u001b[0;34m,\u001b[0m \u001b[0mB_new\u001b[0m\u001b[0;34m,\u001b[0m \u001b[0mD_new\u001b[0m\u001b[0;34m,\u001b[0m \u001b[0mtupple\u001b[0m\u001b[0;34m(\u001b[0m\u001b[0mnp\u001b[0m\u001b[0;34m.\u001b[0m\u001b[0mrandom\u001b[0m\u001b[0;34m.\u001b[0m\u001b[0mchoice\u001b[0m\u001b[0;34m(\u001b[0m\u001b[0;36m256\u001b[0m\u001b[0;34m,\u001b[0m \u001b[0;36m3\u001b[0m\u001b[0;34m)\u001b[0m\u001b[0;34m.\u001b[0m\u001b[0mtolist\u001b[0m\u001b[0;34m(\u001b[0m\u001b[0;34m)\u001b[0m\u001b[0;34m)\u001b[0m\u001b[0;34m,\u001b[0m \u001b[0mthickness\u001b[0m\u001b[0;34m=\u001b[0m\u001b[0;36m2\u001b[0m\u001b[0;34m)\u001b[0m\u001b[0;34m\u001b[0m\u001b[0;34m\u001b[0m\u001b[0m\n\u001b[1;32m     84\u001b[0m         \u001b[0mcv2\u001b[0m\u001b[0;34m.\u001b[0m\u001b[0mline\u001b[0m\u001b[0;34m(\u001b[0m\u001b[0mimg\u001b[0m\u001b[0;34m,\u001b[0m \u001b[0mD_new\u001b[0m\u001b[0;34m,\u001b[0m \u001b[0mC_new\u001b[0m\u001b[0;34m,\u001b[0m \u001b[0mtupple\u001b[0m\u001b[0;34m(\u001b[0m\u001b[0mnp\u001b[0m\u001b[0;34m.\u001b[0m\u001b[0mrandom\u001b[0m\u001b[0;34m.\u001b[0m\u001b[0mchoice\u001b[0m\u001b[0;34m(\u001b[0m\u001b[0;36m256\u001b[0m\u001b[0;34m,\u001b[0m \u001b[0;36m3\u001b[0m\u001b[0;34m)\u001b[0m\u001b[0;34m.\u001b[0m\u001b[0mtolist\u001b[0m\u001b[0;34m(\u001b[0m\u001b[0;34m)\u001b[0m\u001b[0;34m)\u001b[0m\u001b[0;34m,\u001b[0m \u001b[0mthickness\u001b[0m\u001b[0;34m=\u001b[0m\u001b[0;36m2\u001b[0m\u001b[0;34m)\u001b[0m\u001b[0;34m\u001b[0m\u001b[0;34m\u001b[0m\u001b[0m\n",
      "\u001b[0;31mNameError\u001b[0m: name 'tupple' is not defined"
     ]
    }
   ],
   "source": [
    "\n",
    "\n",
    "\n",
    "# Open a .tfrecord\n",
    "for filename in data_paths_train:\n",
    "    print(filename)\n",
    "# filename = data_paths_train[1]#'/waymo/training_1.2/segment-10023947602400723454_1120_000_1140_000_with_camera_labels.tfrecord'\n",
    "    datafile = WaymoDataFileReader(filename)\n",
    "\n",
    "    # Generate a table of the offset of all frame records in the file.\n",
    "    table = datafile.get_record_table()\n",
    "\n",
    "    print(\"There are %d frames in this file.\" % len(table))\n",
    "\n",
    "    # Loop through the whole file\n",
    "    ## and display 3D labels.\n",
    "    cnt = 0\n",
    "\n",
    "    img_name_id = 4\n",
    "    for i, frame in enumerate(datafile):\n",
    "    #     if i %10 !=0: continue\n",
    "        cnt += 1\n",
    "    #     for img_name_id in range(5):\n",
    "        for image_c in frame.images:\n",
    "            if image_c.name == img_name_id:\n",
    "                images = image_c\n",
    "                break\n",
    "        for camera_c in frame.context.camera_calibrations:\n",
    "            if camera_c.name == img_name_id:\n",
    "                camera_calibrations = camera_c\n",
    "                break\n",
    "        print(img_name_id)\n",
    "        for projected_labels in frame.projected_lidar_labels:\n",
    "            if projected_labels.name == img_name_id:\n",
    "#                 camera_calibrations = camera_c\n",
    "                break\n",
    "        \n",
    "        projected_labels = projected_labels.labels\n",
    "        avai_ids = [_.id.split('_')[0] for _ in projected_labels]\n",
    "        laser_valid_labels = []\n",
    "        for lbl in frame.laser_labels:\n",
    "            if lbl.id in avai_ids:\n",
    "                laser_valid_labels.append(lbl)\n",
    "#         projection_label_into_image(cnt, camera_calibrations, images, frame.laser_labels)\n",
    "        print(len(laser_valid_labels), len(frame.laser_labels))\n",
    "        projection_label_into_image(cnt, camera_calibrations, images, laser_valid_labels)\n",
    "        break"
   ]
  },
  {
   "cell_type": "code",
   "execution_count": 19,
   "metadata": {},
   "outputs": [
    {
     "data": {
      "text/plain": [
       "[]"
      ]
     },
     "execution_count": 19,
     "metadata": {},
     "output_type": "execute_result"
    }
   ],
   "source": [
    "laser_valid_labels"
   ]
  },
  {
   "cell_type": "code",
   "execution_count": null,
   "metadata": {},
   "outputs": [],
   "source": []
  }
 ],
 "metadata": {
  "kernelspec": {
   "display_name": "Python 3",
   "language": "python",
   "name": "python3"
  },
  "language_info": {
   "codemirror_mode": {
    "name": "ipython",
    "version": 3
   },
   "file_extension": ".py",
   "mimetype": "text/x-python",
   "name": "python",
   "nbconvert_exporter": "python",
   "pygments_lexer": "ipython3",
   "version": "3.6.9"
  }
 },
 "nbformat": 4,
 "nbformat_minor": 4
}
