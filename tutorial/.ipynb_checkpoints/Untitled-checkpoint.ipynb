{
 "cells": [
  {
   "cell_type": "code",
   "execution_count": 1,
   "metadata": {},
   "outputs": [],
   "source": [
    "# from utils import get_3d_points"
   ]
  },
  {
   "cell_type": "code",
   "execution_count": 2,
   "metadata": {},
   "outputs": [],
   "source": [
    "import json\n",
    "from tqdm import tqdm\n",
    "import tensorflow as tf\n",
    "import os\n",
    "import cv2\n",
    "import math\n",
    "import numpy as np\n",
    "import itertools\n",
    "\n",
    "# from waymo_open_dataset.utils import frame_utils\n",
    "# from waymo_open_dataset import dataset_pb2\n",
    "from pyson.utils import multi_thread\n",
    "# tf.__version__\n",
    "from glob import glob\n"
   ]
  },
  {
   "cell_type": "code",
   "execution_count": 25,
   "metadata": {},
   "outputs": [],
   "source": [
    "import simple_waymo_open_dataset_reader  \n",
    "from simple_waymo_open_dataset_reader import dataset_pb2, label_pb2\n",
    "import simple_waymo_open_dataset_reader.utils as su\n",
    "\n",
    "def get_3d_points_by_cam(frame, camera_name):\n",
    "    \"\"\"\n",
    "        frame: given a frame\n",
    "        cameraname: int specify the camera id\n",
    "    \"\"\"\n",
    "    camera_calibration = su.get(frame.context.camera_calibrations, camera_name)\n",
    "    labels = frame.laser_labels\n",
    "    vehicle_to_image = su.get_image_transform(camera_calibration)\n",
    "    vertices = [ ]\n",
    "    for _ in labels:\n",
    "        x = simple_waymo_open_dataset_reader.utils.get_3d_box_projected_corners(vehicle_to_image, _) \n",
    "        if x is not None:\n",
    "            x = x.tolist()\n",
    "            vertices.append(x)\n",
    "    return vertices"
   ]
  },
  {
   "cell_type": "code",
   "execution_count": 28,
   "metadata": {},
   "outputs": [
    {
     "name": "stdout",
     "output_type": "stream",
     "text": [
      "Len : 797\n"
     ]
    }
   ],
   "source": [
    "\n",
    "################################################\n",
    "# Step 1 tf->json\n",
    "###################################################\n",
    "\n",
    "# data_paths_val = glob('/waymo/validation/*.tfrecord')\n",
    "# data_paths_test = glob('/ssd6/waymo/test/*.tfrecord')\n",
    "data_paths_train = glob('/ssd6/waymo/tfrecord_train/*.tfrecord')\n",
    "\n",
    "paths_records = data_paths_train\n",
    "print(\"Len :\", len(paths_records))\n",
    "output_dir = '/ssd6/coco_style_1.2/'\n",
    "path_output_annotation = \"/ssd6/coco_style_1.2/annotations/train.json\"\n",
    "path_sample_coco_annotation = '/ssd6/coco_style_1.2/annotations/val.json'\n",
    "os.makedirs(output_dir+ \"annotations/\", exist_ok=True)\n",
    "os.makedirs(output_dir +\"images/\", exist_ok=True)\n",
    "\n",
    "def process_frame(frame):\n",
    "    frame, frame_id, frame_name = frame\n",
    "    images = frame.images\n",
    "    labels = frame.camera_labels\n",
    "    rt = dict()\n",
    "    for im_id in range(len(images)):\n",
    "        image = images[im_id]\n",
    "        image_id = image.name\n",
    "        image_name = dataset_pb2.CameraName.Name.Name(image_id)\n",
    "        output_name = os.path.join(output_dir, 'images', f'{frame_name}_{frame_id}_{image_name}.jpg')\n",
    "        image = tf.image.decode_jpeg(image.image).numpy()\n",
    "        if not os.path.exists(output_name):\n",
    "            print(output_name)\n",
    "            cv2.imwrite(output_name, image)\n",
    "        bboxes_coco = []\n",
    "        bboxes_3d = []\n",
    "        class_ids = []\n",
    "        bboxes_id = []\n",
    "        detection_difficulty_levels = []\n",
    "        tracking_difficulty_levels = []\n",
    "        if len(labels) == 0: # no prvided data for 2d\n",
    "            with_camlabel=False\n",
    "        else:\n",
    "            with_camlabel=True\n",
    "            bboxes = labels[im_id].labels # bboxes list for image 0 in this frame\n",
    "            for box in bboxes:\n",
    "                cx, cy, h, w = box.box.center_x, box.box.center_y, box.box.width, box.box.length\n",
    "                x = cx - w/2\n",
    "                y = cy - h/2\n",
    "                class_id = box.type\n",
    "                np_box = [x,y,w,h]\n",
    "                np_box = np.clip(np_box, 0, 10000)\n",
    "                bboxes_id.append(box.id)\n",
    "                bboxes_coco.append(np_box.tolist())\n",
    "                class_ids.append(class_id)\n",
    "                tracking_difficulty_levels.append(box.tracking_difficulty_level)\n",
    "                detection_difficulty_levels.append(box.detection_difficulty_level)\n",
    "        \n",
    "        # process 3d box\n",
    "#         import ipdb; ipdb.set_trace()\n",
    "        bboxes_3d = get_3d_points_by_cam(frame, image_id)\n",
    "        # get_laser_image\n",
    "        # Get the transformation matrix for the camera.\n",
    "        vehicle_to_image = utils.get_image_transform(camera_calibration)\n",
    "        # Decode the image\n",
    "        img = utils.decode_image(camera)\n",
    "        # BGR to RGB\n",
    "        img = cv2.cvtColor(img, cv2.COLOR_BGR2RGB)\n",
    "        # Some of the labels might be fully hidden therefore we attempt to compute the label visibility\n",
    "        # by counting the number of LIDAR points inside each label bounding box.\n",
    "        # For each label, compute the transformation matrix from the vehicle space to the box space.\n",
    "        vehicle_to_labels = [np.linalg.inv(utils.get_box_transformation_matrix(label.box)) for label in frame.laser_labels]\n",
    "        vehicle_to_labels = np.stack(vehicle_to_labels)\n",
    "\n",
    "        # Convert the pointcloud to homogeneous coordinates.\n",
    "        pcl1 = np.concatenate((pcl,np.ones_like(pcl[:,0:1])),axis=1)\n",
    "\n",
    "        # Transform the point cloud to the label space for each label.\n",
    "        # proj_pcl shape is [label, LIDAR point, coordinates]\n",
    "        proj_pcl = np.einsum('lij,bj->lbi', vehicle_to_labels, pcl1)\n",
    "\n",
    "        # For each pair of LIDAR point & label, check if the point is inside the label's box.\n",
    "        # mask shape is [label, LIDAR point]\n",
    "        mask = np.logical_and.reduce(np.logical_and(proj_pcl >= -1, proj_pcl <= 1),axis=2)\n",
    "\n",
    "        # Count the points inside each label's box.\n",
    "        counts = mask.sum(1)\n",
    "\n",
    "        # Keep boxes which contain at least 10 LIDAR points.\n",
    "        visibility = counts > 10\n",
    "\n",
    "        # Display the LIDAR points on the image.\n",
    "        laser_as_img = np.zeros_like(img)\n",
    "        display_laser_on_image(laser_as_img, pcl, vehicle_to_image)\n",
    "        output_laser_name = os.path.join('/ssd6/coco_style_1.2/laser_images', os.path.basename(output_name))\n",
    "        if not os.path.exists(output_laser_name):\n",
    "            print(output_laser_name)\n",
    "            cv2.imwrite(output_laser_name, laser_as_img)\n",
    "        #----\n",
    "        rt[output_name] = dict(with_camlabel=with_camlabel,\n",
    "                               bboxes=bboxes_coco, \n",
    "                               bboxes_3d=bboxes_3d,\n",
    "                               bboxes_id=bboxes_id, \n",
    "                               labels=class_ids,\n",
    "                               timestamp_micros=frame.timestamp_micros,\n",
    "                               tracking_difficulty_level=tracking_difficulty_levels, \n",
    "                               detection_difficulty_level = detection_difficulty_levels)\n",
    "    return rt\n",
    "\n",
    "def f_datapath(data_path):\n",
    "    f_name = os.path.basename(data_path)\n",
    "    frame_name = os.path.basename(data_path)\n",
    "    frame_id = 0\n",
    "    dataset = tf.data.TFRecordDataset(data_path, compression_type='')\n",
    "    frames = []\n",
    "    for data in dataset:\n",
    "        frame_id += 1\n",
    "        frame = dataset_pb2.Frame()\n",
    "        frame.ParseFromString(bytearray(data.numpy()))\n",
    "        frames.append((frame, frame_id, f_name))\n",
    "    return frames\n",
    "\n"
   ]
  },
  {
   "cell_type": "markdown",
   "metadata": {},
   "source": [
    "# debug"
   ]
  },
  {
   "cell_type": "code",
   "execution_count": null,
   "metadata": {},
   "outputs": [
    {
     "name": "stdout",
     "output_type": "stream",
     "text": [
      "> \u001b[0;32m<ipython-input-28-c8ba54492c53>\u001b[0m(56)\u001b[0;36mprocess_frame\u001b[0;34m()\u001b[0m\n",
      "\u001b[0;32m     55 \u001b[0;31m        \u001b[0;32mimport\u001b[0m \u001b[0mipdb\u001b[0m\u001b[0;34m;\u001b[0m \u001b[0mipdb\u001b[0m\u001b[0;34m.\u001b[0m\u001b[0mset_trace\u001b[0m\u001b[0;34m(\u001b[0m\u001b[0;34m)\u001b[0m\u001b[0;34m\u001b[0m\u001b[0;34m\u001b[0m\u001b[0m\n",
      "\u001b[0m\u001b[0;32m---> 56 \u001b[0;31m        \u001b[0mbboxes_3d\u001b[0m \u001b[0;34m=\u001b[0m \u001b[0mget_3d_points_by_cam\u001b[0m\u001b[0;34m(\u001b[0m\u001b[0mframe\u001b[0m\u001b[0;34m,\u001b[0m \u001b[0mimage\u001b[0m\u001b[0;34m.\u001b[0m\u001b[0mname\u001b[0m\u001b[0;34m)\u001b[0m\u001b[0;34m\u001b[0m\u001b[0;34m\u001b[0m\u001b[0m\n",
      "\u001b[0m\u001b[0;32m     57 \u001b[0;31m\u001b[0;34m\u001b[0m\u001b[0m\n",
      "\u001b[0m\n"
     ]
    },
    {
     "name": "stdin",
     "output_type": "stream",
     "text": [
      "ipdb>  image.name\n"
     ]
    },
    {
     "name": "stdout",
     "output_type": "stream",
     "text": [
      "*** AttributeError: 'numpy.ndarray' object has no attribute 'name'\n"
     ]
    },
    {
     "name": "stdin",
     "output_type": "stream",
     "text": [
      "ipdb>  image_id\n"
     ]
    },
    {
     "name": "stdout",
     "output_type": "stream",
     "text": [
      "1\n"
     ]
    },
    {
     "name": "stdin",
     "output_type": "stream",
     "text": [
      "ipdb>  bboxes_3d = get_3d_points_by_cam(frame, image_id)\n",
      "ipdb>  bboxes_3d\n"
     ]
    },
    {
     "name": "stdout",
     "output_type": "stream",
     "text": [
      "[[[[[-8250, 633], [-8237, 440]], [[-8305, 633], [-8292, 440]]], [[[-8175, 634], [-8163, 441]], [[-8230, 633], [-8218, 442]]]], [[[[6256, 747], [6252, 603]], [[6302, 749], [6298, 599]]], [[[5259, 737], [5256, 615]], [[5263, 738], [5261, 612]]]], [[[[3702, 831], [3699, 648]], [[4049, 840], [4046, 647]]], [[[4088, 868], [4085, 637]], [[4558, 882], [4554, 635]]]], [[[[4648, 1094], [4640, 663]], [[3837, 1046], [3832, 663]]], [[[3894, 968], [3890, 671]], [[3376, 944], [3373, 671]]]], [[[[2023, 798], [2022, 650]], [[1955, 803], [1955, 648]]], [[[1683, 784], [1683, 653]], [[1608, 788], [1608, 651]]]], [[[[12410, 942], [12383, 540]], [[10647, 909], [10627, 555]]], [[[9222, 862], [9208, 587]], [[8241, 846], [8230, 594]]]], [[[[3164, 1131], [3161, 758]], [[2569, 1080], [2567, 748]]], [[[2907, 1001], [2905, 738]], [[2494, 974], [2492, 733]]]], [[[[2143, 774], [2143, 674]], [[2087, 776], [2087, 673]]], [[[1876, 764], [1876, 674]], [[1817, 766], [1817, 673]]]], [[[[4979, 797], [4975, 612]], [[5415, 805], [5410, 608]]], [[[5523, 820], [5518, 595]], [[6102, 832], [6095, 589]]]], [[[[7909, 1001], [7894, 628]], [[6605, 958], [6595, 634]]], [[[6128, 902], [6120, 648]], [[5364, 881], [5358, 650]]]], [[[[363, 1081], [365, 804]], [[107, 1165], [111, 829]]], [[[-316, 1036], [-313, 788]], [[-667, 1101], [-662, 806]]]], [[[[7414, 772], [7406, 557]], [[8031, 779], [8022, 550]]], [[[8907, 796], [8894, 519]], [[9834, 806], [9819, 507]]]], [[[[4874, 762], [4872, 637]], [[4877, 764], [4875, 634]]], [[[4225, 751], [4223, 642]], [[4206, 753], [4204, 640]]]], [[[[-4153, 868], [-4146, 681]], [[-3976, 869], [-3970, 682]]], [[[-5808, 926], [-5796, 681]], [[-5586, 929], [-5575, 682]]]], [[[[5180, 1055], [5172, 666]], [[4399, 1014], [4393, 666]]], [[[4429, 958], [4424, 672]], [[3900, 935], [3897, 672]]]], [[[[2975, 585], [2974, 535]], [[3005, 583], [3005, 532]]], [[[2966, 585], [2965, 535]], [[2996, 583], [2996, 532]]]], [[[[2115, 618], [2115, 572]], [[2097, 617], [2097, 571]]], [[[2110, 618], [2110, 572]], [[2092, 617], [2092, 571]]]], [[[[2227, 691], [2227, 662]], [[2201, 691], [2201, 662]]], [[[2227, 691], [2227, 662]], [[2201, 691], [2201, 662]]]], [[[[3453, 787], [3451, 665]], [[3405, 790], [3403, 664]]], [[[2945, 771], [2944, 667]], [[2886, 774], [2885, 666]]]], [[[[6175, 1135], [6162, 654]], [[5178, 1080], [5169, 656]]], [[[4915, 991], [4909, 666]], [[4319, 964], [4314, 666]]]], [[[[6865, 1033], [6851, 631]], [[5818, 991], [5809, 635]]], [[[5457, 927], [5450, 649]], [[4823, 906], [4818, 651]]]], [[[[6598, 764], [6593, 597]], [[7113, 769], [7107, 593]]], [[[7517, 780], [7510, 577]], [[8219, 788], [8210, 570]]]], [[[[609, 999], [611, 744]], [[402, 1050], [405, 754]]], [[[97, 959], [99, 735]], [[-153, 997], [-150, 741]]]], [[[[14986, 861], [14945, 381]], [[12963, 839], [12932, 413]]], [[[10361, 799], [10344, 491]], [[9358, 789], [9344, 504]]]], [[[[1845, 638], [1845, 620]], [[1831, 638], [1831, 620]]], [[[1843, 638], [1843, 620]], [[1828, 638], [1828, 620]]]], [[[[869, 965], [870, 732]], [[693, 1001], [695, 738]]], [[[426, 926], [428, 723]], [[226, 952], [228, 727]]]], [[[[-2929, 848], [-2926, 745]], [[-3052, 848], [-3049, 745]]], [[[-2428, 828], [-2426, 738]], [[-2536, 827], [-2534, 737]]]], [[[[1723, 786], [1723, 692]], [[1779, 783], [1779, 692]]], [[[2013, 798], [2013, 694]], [[2063, 794], [2063, 694]]]], [[[[19830, 885], [19764, 317]], [[17209, 860], [17160, 356]]], [[[12959, 810], [12934, 459]], [[11772, 799], [11751, 474]]]], [[[[7, 1189], [11, 824]], [[-446, 1343], [-439, 866]]], [[[-834, 1125], [-828, 803]], [[-1439, 1239], [-1431, 833]]]], [[[[4759, 629], [4758, 588]], [[4743, 630], [4743, 589]]], [[[4776, 629], [4775, 588]], [[4761, 630], [4760, 589]]]], [[[[-3354, 849], [-3350, 726]], [[-3228, 851], [-3225, 727]]], [[[-4201, 881], [-4196, 734]], [[-4056, 883], [-4050, 735]]]], [[[[13027, 922], [12995, 478]], [[11301, 895], [11277, 498]]], [[[9192, 841], [9178, 552]], [[8306, 828], [8295, 560]]]], [[[[2231, 640], [2230, 613]], [[2195, 640], [2195, 613]]], [[[2231, 640], [2231, 613]], [[2195, 640], [2195, 613]]]], [[[[4746, 825], [4743, 648]], [[5200, 836], [5195, 646]]], [[[5421, 863], [5416, 636]], [[6067, 879], [6060, 633]]]], [[[[11051, 917], [11026, 502]], [[9402, 887], [9384, 523]]], [[[8368, 848], [8356, 560]], [[7420, 832], [7411, 570]]]], [[[[1749, 832], [1749, 685]], [[1672, 840], [1672, 685]]], [[[1409, 813], [1409, 684]], [[1326, 819], [1326, 683]]]], [[[[3586, 624], [3585, 587]], [[3621, 623], [3621, 586]]], [[[3578, 624], [3577, 587]], [[3613, 623], [3612, 586]]]], [[[[2913, 616], [2913, 604]], [[2898, 617], [2898, 605]]], [[[2917, 616], [2917, 604]], [[2903, 617], [2903, 605]]]], [[[[10040, 981], [10019, 588]], [[8641, 945], [8626, 597]]], [[[7690, 892], [7679, 619]], [[6878, 874], [6870, 623]]]], [[[[1009, 922], [1009, 757]], [[888, 945], [889, 763]]], [[[619, 893], [620, 746]], [[481, 910], [483, 751]]]], [[[[-2104, 1882], [-2078, 828]], [[-6426, 3502], [-6300, 1020]]], [[[-4319, 1773], [-4282, 805]], [[-10376, 2992], [-10220, 938]]]], [[[[3419, 858], [3418, 698]], [[3738, 868], [3736, 700]]], [[[3699, 897], [3696, 700]], [[4116, 912], [4113, 703]]]], [[[[1924, 807], [1923, 700]], [[1857, 813], [1857, 701]]], [[[1617, 793], [1617, 698]], [[1544, 797], [1545, 698]]]], [[[[2223, 662], [2223, 640]], [[2204, 662], [2203, 640]]], [[[2223, 662], [2223, 640]], [[2204, 662], [2204, 640]]]], [[[[1201, 898], [1202, 705]], [[1068, 917], [1069, 707]]], [[[846, 870], [847, 701]], [[703, 884], [704, 702]]]], [[[[6147, 781], [6142, 605]], [[6635, 787], [6629, 601]]], [[[7319, 808], [7311, 580]], [[8050, 818], [8040, 573]]]], [[[[1470, 861], [1470, 731]], [[1370, 871], [1370, 733]]], [[[1155, 838], [1156, 724]], [[1051, 846], [1052, 726]]]], [[[[2914, 602], [2913, 562]], [[2894, 603], [2894, 564]]], [[[2920, 602], [2920, 562]], [[2901, 603], [2900, 564]]]], [[[[5437, 800], [5433, 636]], [[5879, 807], [5874, 635]]], [[[6203, 826], [6197, 624]], [[6813, 838], [6806, 621]]]], [[[[2020, 663], [2020, 633]], [[2032, 663], [2032, 633]]], [[[2024, 663], [2023, 633]], [[2036, 663], [2036, 633]]]], [[[[-554, 1380], [-546, 807]], [[-1486, 1726], [-1468, 868]]], [[[-1775, 1290], [-1764, 786]], [[-3053, 1540], [-3032, 827]]]], [[[[3925, 778], [3924, 654]], [[3877, 780], [3876, 653]]], [[[3345, 763], [3344, 658]], [[3286, 765], [3285, 656]]]], [[[[4571, 774], [4568, 622]], [[4729, 778], [4726, 620]]], [[[4499, 774], [4496, 622]], [[4655, 778], [4652, 619]]]], [[[[4459, 772], [4457, 655]], [[4447, 775], [4445, 653]]], [[[3824, 759], [3823, 658]], [[3792, 761], [3791, 656]]]], [[[[6608, 731], [6604, 595]], [[6666, 732], [6661, 591]]], [[[5737, 724], [5734, 606]], [[5760, 725], [5756, 603]]]], [[[[4137, 842], [4134, 667]], [[4514, 852], [4511, 667]]], [[[4567, 877], [4563, 662]], [[5069, 893], [5064, 662]]]], [[[[8680, 1020], [8663, 642]], [[7310, 975], [7298, 646]]], [[[6708, 917], [6699, 657]], [[5906, 894], [5899, 658]]]], [[[[1614, 846], [1614, 720]], [[1521, 855], [1521, 721]]], [[[1308, 826], [1308, 714]], [[1210, 833], [1211, 716]]]], [[[[9103, 1022], [9084, 612]], [[7777, 980], [7763, 618]]], [[[6976, 918], [6967, 636]], [[6208, 897], [6201, 639]]]], [[[[2979, 603], [2979, 584]], [[3002, 602], [3002, 583]]], [[[2971, 603], [2971, 584]], [[2993, 602], [2993, 583]]]], [[[[2801, 601], [2800, 535]], [[2884, 599], [2884, 532]]], [[[2801, 601], [2800, 534]], [[2884, 599], [2884, 532]]]], [[[[2849, 629], [2849, 586]], [[2907, 629], [2906, 585]]], [[[2848, 629], [2848, 585]], [[2906, 628], [2906, 584]]]], [[[[5760, 778], [5756, 613]], [[6216, 784], [6211, 610]]], [[[6677, 801], [6671, 592]], [[7328, 810], [7320, 587]]]], [[[[2823, 629], [2822, 601]], [[2873, 629], [2872, 600]]], [[[2822, 629], [2822, 600]], [[2872, 629], [2872, 599]]]], [[[[3008, 747], [3008, 672]], [[2941, 745], [2940, 672]]], [[[3242, 749], [3241, 672]], [[3164, 747], [3163, 673]]]], [[[[24662, 844], [24574, 242]], [[20976, 821], [20912, 297]]], [[[14579, 775], [14551, 440]], [[13186, 766], [13163, 457]]]], [[[[3871, 1108], [3866, 778]], [[3227, 1068], [3224, 768]]], [[[3269, 976], [3267, 750]], [[2853, 956], [2851, 744]]]], [[[[4156, 773], [4154, 652]], [[4112, 775], [4110, 651]]], [[[3542, 759], [3540, 656]], [[3486, 761], [3484, 655]]]], [[[[3679, 793], [3677, 667]], [[3622, 796], [3620, 665]]], [[[3156, 777], [3155, 668]], [[3091, 779], [3090, 667]]]], [[[[5606, 738], [5602, 587]], [[5622, 739], [5618, 582]]], [[[4715, 728], [4713, 601]], [[4700, 729], [4697, 598]]]], [[[[1829, 820], [1829, 707]], [[1748, 827], [1748, 708]]], [[[1517, 803], [1517, 703]], [[1431, 808], [1432, 704]]]], [[[[4720, 759], [4717, 632]], [[4693, 762], [4690, 629]]], [[[4020, 748], [4018, 639]], [[3974, 749], [3973, 637]]]], [[[[3072, 864], [3070, 686]], [[3399, 876], [3397, 687]]], [[[3265, 906], [3263, 685]], [[3692, 924], [3689, 686]]]], [[[[7286, 718], [7280, 547]], [[7394, 719], [7388, 540]]], [[[6181, 713], [6177, 566]], [[6233, 713], [6229, 561]]]], [[[[4365, 833], [4362, 667]], [[4794, 843], [4791, 667]]], [[[4933, 871], [4929, 661]], [[5536, 888], [5530, 660]]]], [[[[2740, 874], [2738, 678]], [[3050, 886], [3048, 679]]], [[[2853, 918], [2852, 676]], [[3254, 938], [3251, 676]]]], [[[[2114, 636], [2114, 617]], [[2100, 636], [2100, 616]]], [[[2108, 636], [2108, 617]], [[2095, 636], [2095, 616]]]], [[[[-1347, 683], [-1346, 637]], [[-1308, 683], [-1308, 637]]], [[[-1353, 683], [-1352, 636]], [[-1315, 683], [-1314, 637]]]]]\n"
     ]
    },
    {
     "name": "stdin",
     "output_type": "stream",
     "text": [
      "ipdb>  len(bboxes_3d)\n"
     ]
    },
    {
     "name": "stdout",
     "output_type": "stream",
     "text": [
      "79\n"
     ]
    }
   ],
   "source": [
    "\n",
    "frames = f_datapath(paths_records[0])\n",
    "process_frame(frames[0])\n",
    "\n"
   ]
  },
  {
   "cell_type": "code",
   "execution_count": null,
   "metadata": {},
   "outputs": [],
   "source": [
    "# ----------------------\n",
    "data_dict = dict()\n",
    "for data_path_cam in tqdm(paths_records):\n",
    "    frames = f_datapath(data_path_cam)\n",
    "    results = multi_thread(process_frame, frames, verbose=False, max_workers=None)\n",
    "    name = os.path.basename(data_path_cam)\n",
    "    for _ in results:\n",
    "        data_dict.update(_)\n",
    "    \n",
    "\n",
    "sample = json.load(open(path_sample_coco_annotation))\n",
    "\n",
    "sample['info'] = {'description': '2D waymo',\n",
    " 'url': 'waymo.com',\n",
    " 'version': '1.0',\n",
    " 'year': 2020,\n",
    " 'contributor': 'Hai Anh',\n",
    " 'date_created': '2019/04/06'}\n",
    "\n",
    "sample['licenses'] = []\n",
    "\n",
    "rt_images = []\n",
    "rt_annotations = []\n",
    "rt_with_cam_labels = []\n",
    "\n",
    "for image_id, (image_name, labels) in enumerate(data_dict.items()):\n",
    "    filename = os.path.basename(image_name)\n",
    "    image = {'license': 4,\n",
    "         'file_name': filename,\n",
    "         'height': 1280,\n",
    "         'width': 1920,\n",
    "         'id': image_id,\n",
    "         'timestamp_micros':labels[\"timestamp_micros\"]\n",
    "    }\n",
    "    rt_with_cam_labels.append(labels['with_camlabel'])\n",
    "    rt_images.append(image)\n",
    "    bboxes = labels['bboxes']\n",
    "    labels = labels['labels']\n",
    "    bboxes_id = labels['bboxes_id']\n",
    "    bboxes = np.array(bboxes).astype('int')\n",
    "\n",
    "    anno_indi_dir = os.path.join(output_dir, \"annotations\", \"anns\")\n",
    "    os.makedirs(anno_indi_dir, exist_ok=True)\n",
    "    for anno_id, (box, box_id, lbl) in enumerate(zip(bboxes,bboxes_id, labels)):\n",
    "        annotation = dict(image_id=image_id, box_id=box_id,category_id=lbl, bbox=box.tolist(), iscrowd=0, id=len(rt_annotations))\n",
    "        out_path = os.path.join(anno_indi_dir, f\"{anno_id}.json\" )\n",
    "        with open(out_path, \"w\") as f:\n",
    "            json.dump(annotation, f)\n",
    "        rt_annotations.append(os.path.join(\"anns\", f\"{anno_id}.json\"))\n",
    "\n",
    "cates =  [\n",
    " {'supercategory': 'vehicle','id': 1, 'name': 'vehicle'},\n",
    " {'supercategory': 'perdestrian','id': 2, 'name': 'perdestrian'},\n",
    " {'supercategory': 'sign','id': 3, 'name': 'sign'},\n",
    " {'supercategory': 'cyclis','id': 3, 'name': 'cyclis'}\n",
    "]\n",
    "\n",
    "sample['images'] = rt_images\n",
    "sample['with_camlabel'] = rt_with_cam_labels\n",
    "sample['annotations'] = rt_annotations\n",
    "sample['categories'] = cates\n",
    "\n",
    "with open(path_output_annotation, 'w') as f:\n",
    "    json.dump(sample, f)\n",
    "print('done!', path_output_annotation)"
   ]
  }
 ],
 "metadata": {
  "kernelspec": {
   "display_name": "Python 3",
   "language": "python",
   "name": "python3"
  },
  "language_info": {
   "codemirror_mode": {
    "name": "ipython",
    "version": 3
   },
   "file_extension": ".py",
   "mimetype": "text/x-python",
   "name": "python",
   "nbconvert_exporter": "python",
   "pygments_lexer": "ipython3",
   "version": "3.6.9"
  }
 },
 "nbformat": 4,
 "nbformat_minor": 4
}
